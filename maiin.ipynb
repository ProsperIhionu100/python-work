{
 "cells": [
  {
   "cell_type": "code",
   "execution_count": 1,
   "metadata": {},
   "outputs": [
    {
     "name": "stdout",
     "output_type": "stream",
     "text": [
      "hello world\n"
     ]
    }
   ],
   "source": [
    "print(\"hello world\")"
   ]
  },
  {
   "cell_type": "code",
   "execution_count": 3,
   "metadata": {},
   "outputs": [
    {
     "name": "stdout",
     "output_type": "stream",
     "text": [
      "you won\n",
      "you won\n",
      "you won\n"
     ]
    }
   ],
   "source": [
    "\n",
    "guess = 1000\n",
    "\n",
    "guess = int(input(\"guess a number\"))\n",
    "\n",
    "if guess == 1000:\n",
    "    print(\"you won\")\n",
    "    if guess > 1000:\n",
    "        print(\"you guessed a higher  number\")\n",
    "        print(\"try again\")\n",
    "elif guess < 1000:\n",
    "    print(\"you guessed lower than the number\")\n",
    "    print(\"try again\")\n",
    "\n",
    "guess2 = guess\n",
    "guess2 = int(input(\"guess a number\"))\n",
    "if guess2 == 1000:\n",
    "    print(\"you won\")\n",
    "elif guess2 > 1000:\n",
    "    print(\"you guessed a higher  number\")\n",
    "    print(\"try again\")\n",
    "elif guess2 < 1000:\n",
    "    print(\"you guessed lower than the number\")\n",
    "    print(\"try again\")\n",
    "    \n",
    "guess3 = guess\n",
    "guess3 = int(input(\"guess a number\"))\n",
    "if guess3 ==1000:\n",
    "    print(\"you won\")\n",
    "else:\n",
    "    print(\"you lost\")    \n"
   ]
  },
  {
   "cell_type": "code",
   "execution_count": 5,
   "metadata": {},
   "outputs": [
    {
     "name": "stdout",
     "output_type": "stream",
     "text": [
      " oops you guessed below the number\n",
      "omo...!\n"
     ]
    }
   ],
   "source": [
    "#solution\n",
    "answer = 1000\n",
    "guess =  int(input(\"enter a number\"))\n",
    "\n",
    "if guess < answer:\n",
    "    print(\" oops you guessed below the number\")\n",
    "    guess2 = int(input(\"enter a number\"))\n",
    "    if guess2 == answer:\n",
    "        print(\" wow! you guess right ...!\")\n",
    "    else:\n",
    "        print(\"omo...!\")\n",
    "elif guess > answer:\n",
    "    print(\"oops you guessed above the number\")\n",
    "    guess2 = int(input(\"enter a number\"))\n",
    "    if guess2 == answer:\n",
    "        print(\" wow! you guess right ...!\")\n",
    "    else:\n",
    "        print(\"you are wrong\")\n",
    "else:\n",
    "    print(\"you are out of steps\")\n",
    "    \n",
    "         \n"
   ]
  },
  {
   "attachments": {},
   "cell_type": "markdown",
   "metadata": {},
   "source": [
    "FUNCTIONS()IN PYTHON"
   ]
  },
  {
   "cell_type": "code",
   "execution_count": 8,
   "metadata": {},
   "outputs": [
    {
     "data": {
      "text/plain": [
       "'david carkson'"
      ]
     },
     "execution_count": 8,
     "metadata": {},
     "output_type": "execute_result"
    }
   ],
   "source": [
    "def greet():\n",
    "    # body of the function\n",
    "   ## print(\"pyton function programming\")\n",
    "    return \"david carkson\"\n",
    "    \n",
    "# call the function name \n",
    "greet()"
   ]
  },
  {
   "cell_type": "code",
   "execution_count": 20,
   "metadata": {},
   "outputs": [
    {
     "ename": "SyntaxError",
     "evalue": "invalid syntax. Perhaps you forgot a comma? (1908935760.py, line 3)",
     "output_type": "error",
     "traceback": [
      "\u001b[1;36m  Cell \u001b[1;32mIn[20], line 3\u001b[1;36m\u001b[0m\n\u001b[1;33m    print(math.floor{n})\u001b[0m\n\u001b[1;37m          ^\u001b[0m\n\u001b[1;31mSyntaxError\u001b[0m\u001b[1;31m:\u001b[0m invalid syntax. Perhaps you forgot a comma?\n"
     ]
    }
   ],
   "source": [
    "\n",
    "import math\n",
    "n = 100.4\n",
    "print(math.floor{n})\n",
    "print(math.ceil(n))"
   ]
  },
  {
   "cell_type": "code",
   "execution_count": 4,
   "metadata": {},
   "outputs": [
    {
     "name": "stdout",
     "output_type": "stream",
     "text": [
      "my surname is Ihionu and firstname is prosper\n"
     ]
    }
   ],
   "source": [
    "def name(surname, firstname):\n",
    "    print(f\"my surname is {surname} and firstname is {firstname}\")\n",
    "name(\"Ihionu\", \"prosper\")"
   ]
  },
  {
   "cell_type": "code",
   "execution_count": 7,
   "metadata": {},
   "outputs": [
    {
     "name": "stdout",
     "output_type": "stream",
     "text": [
      "wow mr peter obi has won the election\n"
     ]
    }
   ],
   "source": [
    "pdp = int(input(\"enter total pdp vote \"))\n",
    "apc = int(input(\"enter total apc vote\"))\n",
    "lp = int(input(\"enter total lp vote \"))\n",
    "\n",
    "pdp_cand =\"atiku abubaka\"\n",
    "if pdp > apc and lp:\n",
    "    print(f\"wow {pdp_cand} has won the election \")\n",
    "apc_cand = \"bola tinubu\"\n",
    "if apc > lp and pdp:\n",
    "    print(f\"wow {apc_cand} has won the election\")\n",
    "lp_cand =\"peter obi\"\n",
    "if lp > apc and pdp:\n",
    "    print(f\"wow mr {lp_cand} has won the election\")\n",
    "     "
   ]
  },
  {
   "cell_type": "code",
   "execution_count": 3,
   "metadata": {},
   "outputs": [
    {
     "name": "stdout",
     "output_type": "stream",
     "text": [
      "2 x 1 =2\n",
      "2 x 2 =4\n",
      "2 x 3 =6\n",
      "2 x 4 =8\n",
      "2 x 5 =10\n",
      "2 x 6 =12\n",
      "2 x 7 =14\n",
      "2 x 8 =16\n",
      "2 x 9 =18\n",
      "2 x 10 =20\n",
      "2 x 11 =22\n"
     ]
    }
   ],
   "source": [
    "table = int(input(\"Table what ?\\n\"))\n",
    "\n",
    "for i in range(1,12):\n",
    "    print(f'{table} x {i} ={table *i}')\n"
   ]
  },
  {
   "cell_type": "code",
   "execution_count": 5,
   "metadata": {},
   "outputs": [
    {
     "name": "stdout",
     "output_type": "stream",
     "text": [
      "your luggages has normal kg, you can travel without extra charges\n",
      "enjoy your flight\n"
     ]
    }
   ],
   "source": [
    "weight = float(input(\"How many pounds does your suitcase weigh ? \"))\n",
    "if weight >50 and weight < 60:\n",
    "    print(\"theres a $25 for a heavy luggages\")\n",
    "    print(\"thank you\")\n",
    "elif weight >60 and weight < 70:\n",
    "    print(\"you are going to pay $50 for this luggage\")\n",
    "else:\n",
    "    print(\"your luggages has normal kg, you can travel without extra charges\")\n",
    "    print(\"enjoy your flight\")\n"
   ]
  },
  {
   "cell_type": "code",
   "execution_count": null,
   "metadata": {},
   "outputs": [],
   "source": [
    "pdp = 15000000\n",
    "apc = 10000000\n",
    "lp = 290000000\n",
    "if pdp > apc and pdp > lp:\n",
    "    print (\"Atiku  is the of the election with \", pdp +\"vote\")\n",
    "elif apc > pdp and apc > lp:\n",
    "    print(\"Tinubu  is the of the election with \", apc +\"vote\")\n",
    "elif lp > pdp and lp > apc:\n",
    "    print(\"peter obi is the of the election with \", apc +\"vote\")\n",
    "\n",
    "else:\n",
    "    print(\"the election was rigged\")\n",
    " "
   ]
  },
  {
   "cell_type": "code",
   "execution_count": 9,
   "metadata": {},
   "outputs": [
    {
     "name": "stdout",
     "output_type": "stream",
     "text": [
      "3 that is not true \n",
      "the value of let is 100\n"
     ]
    }
   ],
   "source": [
    "let = 100\n",
    "if let == 200:\n",
    "    print(\"1 that is not true \")\n",
    "    print(\"the value of let is\", let)\n",
    "elif let ==150:\n",
    "    print(\"2 that is not true \")\n",
    "    print(\"the value of let is\", let)\n",
    "elif let ==100:\n",
    "    print(\"3 that is not true \")\n",
    "    print(\"the value of let is\", let)\n",
    "elif let ==250:\n",
    "    print(\"4 that is not true \")\n",
    "    print(\"the value of let is\", let)\n",
    "else:\n",
    "    print(\"none of your input is equals to\",let)\n"
   ]
  },
  {
   "cell_type": "code",
   "execution_count": 1,
   "metadata": {},
   "outputs": [
    {
     "name": "stdout",
     "output_type": "stream",
     "text": [
      "wow! it is good to know that carkson is a software developer at Niit in festac branch\n"
     ]
    }
   ],
   "source": [
    "def add(a, b, c):\n",
    "    print(f'wow! it is good to know that {a} is a software developer at {b} in {c} branch')\n",
    "add(\"carkson\", \"Niit\", \"festac\")"
   ]
  },
  {
   "cell_type": "code",
   "execution_count": 7,
   "metadata": {},
   "outputs": [
    {
     "data": {
      "text/plain": [
       "'good morning'"
      ]
     },
     "execution_count": 7,
     "metadata": {},
     "output_type": "execute_result"
    }
   ],
   "source": [
    "def greet():\n",
    "    return\"good morning\"\n",
    "\n",
    "\n",
    "greet()"
   ]
  },
  {
   "cell_type": "code",
   "execution_count": 1,
   "metadata": {},
   "outputs": [
    {
     "name": "stdout",
     "output_type": "stream",
     "text": [
      "prosper and 2002 looks good\n"
     ]
    }
   ],
   "source": [
    "name = input(\"enter your name\")\n",
    "date_of_birth = int(input(\"enter you birth date\"))\n",
    "\n",
    "if len(name) < 4:\n",
    "    print(\"name should be aleast than 4 characters\")\n",
    "elif len(name)> 8:\n",
    "    print(\"name should be less than 8 characters\")\n",
    "    if len(date_of_birth) < 2:\n",
    "        print(\"should be 4 characters\")\n",
    "else:\n",
    "    print(f'{name} and {date_of_birth} looks good')        \n"
   ]
  },
  {
   "cell_type": "code",
   "execution_count": 2,
   "metadata": {},
   "outputs": [
    {
     "name": "stdout",
     "output_type": "stream",
     "text": [
      "3\n",
      "44\n",
      "53\n",
      "127\n",
      "142\n"
     ]
    }
   ],
   "source": [
    "total = 0\n",
    "for item  in [3, 41, 9, 74, 15]:\n",
    "    total = total + item\n",
    "    print (total)"
   ]
  },
  {
   "cell_type": "code",
   "execution_count": 3,
   "metadata": {},
   "outputs": [
    {
     "name": "stdout",
     "output_type": "stream",
     "text": [
      "modest\n",
      "prosper\n",
      "john\n",
      "david\n",
      "daniel\n"
     ]
    }
   ],
   "source": [
    "mylist =['modest', 'prosper', 'john',  'david', 'daniel' ]\n",
    "for i in mylist:\n",
    "    print(i)"
   ]
  },
  {
   "cell_type": "code",
   "execution_count": 4,
   "metadata": {},
   "outputs": [
    {
     "name": "stdout",
     "output_type": "stream",
     "text": [
      "3\n"
     ]
    }
   ],
   "source": [
    "smallest = None\n",
    "for item in [3, 41, 9, 74, 15,]:\n",
    "    if smallest is None or item < smallest:\n",
    "        smallest= item\n",
    "        print(smallest)"
   ]
  },
  {
   "cell_type": "code",
   "execution_count": 8,
   "metadata": {},
   "outputs": [
    {
     "name": "stdout",
     "output_type": "stream",
     "text": [
      "3\n",
      "41\n",
      "74\n"
     ]
    }
   ],
   "source": [
    "largest = None\n",
    "for item in [3, 41, 9, 74, 15,]:\n",
    "    if largest is None or item > largest:\n",
    "        largest= item\n",
    "        print(largest)"
   ]
  },
  {
   "cell_type": "code",
   "execution_count": 9,
   "metadata": {},
   "outputs": [
    {
     "name": "stdout",
     "output_type": "stream",
     "text": [
      "o\n"
     ]
    }
   ],
   "source": [
    "stdname = 'Prosper'\n",
    "letter = stdname[2]\n",
    "print(letter)"
   ]
  },
  {
   "cell_type": "code",
   "execution_count": 10,
   "metadata": {},
   "outputs": [
    {
     "name": "stdout",
     "output_type": "stream",
     "text": [
      "Prosper\n"
     ]
    }
   ],
   "source": [
    "print(stdname[0:])"
   ]
  },
  {
   "cell_type": "code",
   "execution_count": 12,
   "metadata": {},
   "outputs": [
    {
     "name": "stdout",
     "output_type": "stream",
     "text": [
      "There are 20.000000 fruits in the basket\n"
     ]
    }
   ],
   "source": [
    "fruit = 20\n",
    "print(\"There are %f fruits in the basket\" %fruit )\n"
   ]
  },
  {
   "cell_type": "code",
   "execution_count": 1,
   "metadata": {},
   "outputs": [
    {
     "name": "stdout",
     "output_type": "stream",
     "text": [
      "it's a good day \n"
     ]
    }
   ],
   "source": [
    "punctuation = (\"IT'S A GOOD DAY \")\n",
    "lower = punctuation.lower()  \n",
    "print(punctuation.lower())\n",
    " "
   ]
  },
  {
   "cell_type": "code",
   "execution_count": 10,
   "metadata": {},
   "outputs": [
    {
     "name": "stdout",
     "output_type": "stream",
     "text": [
      "From stephen.marqwwuard@uctr.ac.za sat jan 5 09:14:2008\n"
     ]
    }
   ],
   "source": [
    "f = open(\"mytxt.txt\", \"r\")\n",
    "for i in f:\n",
    "    print(i)\n",
    "    # print(f.read (5))"
   ]
  },
  {
   "cell_type": "code",
   "execution_count": null,
   "metadata": {},
   "outputs": [],
   "source": [
    "fhand =open('mytxt.txt','r')\n",
    "for line in fhand:\n",
    "    \n",
    "     "
   ]
  },
  {
   "cell_type": "code",
   "execution_count": 10,
   "metadata": {},
   "outputs": [
    {
     "name": "stdout",
     "output_type": "stream",
     "text": [
      "<_io.TextIOWrapper name='output.txt' mode='w' encoding='cp1252'>\n"
     ]
    },
    {
     "data": {
      "text/plain": [
       "24"
      ]
     },
     "execution_count": 10,
     "metadata": {},
     "output_type": "execute_result"
    }
   ],
   "source": [
    "fout = open('output.txt','w')\n",
    "print(fout)\n",
    "line1 = \"this here's the wattle,\\n\"\n",
    "line2 = \"this a programming class\"\n",
    "fout.write(line1)\n",
    "fout.write(line2)"
   ]
  },
  {
   "cell_type": "code",
   "execution_count": null,
   "metadata": {},
   "outputs": [],
   "source": [
    "#Assignment\n",
    "\n",
    "\n",
    "filename = input('enter file name')\n",
    "\n",
    "try:\n",
    "    with open(filename) as file:\n",
    "         for line in filename:\n",
    "             "
   ]
  },
  {
   "attachments": {},
   "cell_type": "markdown",
   "metadata": {},
   "source": [
    "# Handling exception"
   ]
  },
  {
   "cell_type": "code",
   "execution_count": 12,
   "metadata": {},
   "outputs": [
    {
     "name": "stdout",
     "output_type": "stream",
     "text": [
      "IOError: cant find file or read data\n"
     ]
    }
   ],
   "source": [
    "try:\n",
    "    fh = open(\"mbox.txt\", \"r\")\n",
    "    fh.write (\"python is as fast as java\")\n",
    "except IOError:\n",
    "   print(\"IOError: cant find file or read data\")\n",
    "else:\n",
    "    print(\"written text into file successfully\")"
   ]
  },
  {
   "cell_type": "code",
   "execution_count": null,
   "metadata": {},
   "outputs": [],
   "source": [
    "filename = input('enter the file name: ')\n",
    "if filename = \"na na boo boo\"\n",
    "    print()"
   ]
  },
  {
   "attachments": {},
   "cell_type": "markdown",
   "metadata": {},
   "source": [
    "string and it's methods"
   ]
  },
  {
   "cell_type": "code",
   "execution_count": 6,
   "metadata": {},
   "outputs": [
    {
     "ename": "NameError",
     "evalue": "name 'line' is not defined",
     "output_type": "error",
     "traceback": [
      "\u001b[1;31m---------------------------------------------------------------------------\u001b[0m",
      "\u001b[1;31mNameError\u001b[0m                                 Traceback (most recent call last)",
      "Cell \u001b[1;32mIn[6], line 8\u001b[0m\n\u001b[0;32m      6\u001b[0m         frenquency[word]\u001b[39m.\u001b[39msetdefault(word, \u001b[39m1\u001b[39m)\n\u001b[0;32m      7\u001b[0m         frenquency[word] \u001b[39m+\u001b[39m\u001b[39m=\u001b[39m \u001b[39m1\u001b[39m\n\u001b[1;32m----> 8\u001b[0m \u001b[39mprint\u001b[39m(line)\n",
      "\u001b[1;31mNameError\u001b[0m: name 'line' is not defined"
     ]
    }
   ],
   "source": [
    "fhand = open('mbox.txt').readlines()\n",
    "num_lines = 0\n",
    "frenquency ={}\n",
    "for line in fhand:\n",
    "    for  word in line.split():\n",
    "        frenquency[word].setdefault(word, 1)\n",
    "        frenquency[word] +='\n",
    "        ' 1\n",
    "print(line)"
   ]
  },
  {
   "attachments": {},
   "cell_type": "markdown",
   "metadata": {},
   "source": []
  },
  {
   "cell_type": "code",
   "execution_count": 2,
   "metadata": {},
   "outputs": [
    {
     "name": "stdout",
     "output_type": "stream",
     "text": [
      "{'This': 1,\n",
      " 'a': 2,\n",
      " 'allows': 1,\n",
      " 'already': 1,\n",
      " 'and': 1,\n",
      " 'apped': 1,\n",
      " 'append': 1,\n",
      " 'contains': 1,\n",
      " \"conten,it'll\": 1,\n",
      " 'creates': 1,\n",
      " 'default': 1,\n",
      " \"doesn't\": 1,\n",
      " 'exist': 1,\n",
      " 'file': 4,\n",
      " 'file.': 1,\n",
      " 'if': 2,\n",
      " 'is': 2,\n",
      " 'it': 2,\n",
      " 'just': 1,\n",
      " 'mode': 1,\n",
      " 'mode,': 1,\n",
      " 'mode.': 2,\n",
      " 'open': 1,\n",
      " 'overwrite.': 1,\n",
      " 'read': 2,\n",
      " 'shanges(read,': 1,\n",
      " 'the': 3,\n",
      " 'this': 3,\n",
      " 'to': 3,\n",
      " 'up': 1,\n",
      " 'used': 1,\n",
      " 'would': 1,\n",
      " 'write': 2,\n",
      " 'write)': 1}\n"
     ]
    }
   ],
   "source": [
    "import os\n",
    "import collections\n",
    "from collections import Counter\n",
    "from pprint import pprint\n",
    "fhand = open('mbox.txt ').readlines()\n",
    "num_lines = 0\n",
    "frenquency = {}\n",
    "for line in fhand:\n",
    "    for word in line.split():\n",
    "        frenquency.setdefault(word,0)\n",
    "        frenquency[word] += 1\n",
    "pprint(frenquency)\n",
    "        "
   ]
  },
  {
   "attachments": {},
   "cell_type": "markdown",
   "metadata": {},
   "source": [
    "create a program to read and write into a text file;\n",
    "the program should prompt the user to enter the name of a file.\n",
    "\n",
    "if the file exists, it should let the know and allow the user anme\n",
    "changes into the file by adding contents or changing words in the file.\n",
    "\n",
    "if the file doesn't exist itt should create the and allow the user to be able to write into the file.\n",
    "and also be able to make changes to a file. \n",
    "\n",
    "before a userr is able to make changes to a file they should \n",
    "see the content of the file.\n",
    "\n"
   ]
  },
  {
   "cell_type": "code",
   "execution_count": 10,
   "metadata": {},
   "outputs": [],
   "source": [
    "filename = input('enter fliename' ) \n",
    "#filename= open('mbox.txt','r')\n",
    "#for word in filename:\n",
    " #      print(word)\n",
    "try:\n",
    "  if filename == ('mbox.txt','r'): \n",
    "    with open(filename) as file:\n",
    "         for line in filename: \n",
    "                print(filename)\n",
    "except:\n",
    "       print('file not found')                      "
   ]
  },
  {
   "cell_type": "code",
   "execution_count": null,
   "metadata": {},
   "outputs": [],
   "source": [
    "fliename = input('enter fileename')\n",
    "try:\n",
    "    file = open(filename)\n",
    "except FileNotFoundError as e:\n",
    "    print('file not found')\n",
    "    cmd = input('create file y/n')\n",
    "    if cmd == 'y':\n",
    "        file = open(filename, 'w')\n",
    "        choice = input('write  to file? y/n:')\n",
    "        if choice == 'y':\n",
    "            while True:\n",
    "                line = input('type here:')\n",
    "                if line == 'done':\n",
    "                    file.close()\n",
    "                    break\n",
    "                else:\n",
    "                    file.write(line+'\\n') "
   ]
  },
  {
   "cell_type": "code",
   "execution_count": null,
   "metadata": {},
   "outputs": [],
   "source": [
    " "
   ]
  },
  {
   "cell_type": "code",
   "execution_count": null,
   "metadata": {},
   "outputs": [],
   "source": []
  },
  {
   "attachments": {},
   "cell_type": "markdown",
   "metadata": {},
   "source": [
    "## python class and object (oop)"
   ]
  },
  {
   "attachments": {},
   "cell_type": "markdown",
   "metadata": {},
   "source": [
    " "
   ]
  },
  {
   "cell_type": "code",
   "execution_count": 2,
   "metadata": {},
   "outputs": [
    {
     "name": "stdout",
     "output_type": "stream",
     "text": [
      "<class '__main__.myclass'>\n"
     ]
    }
   ],
   "source": [
    "class myclass:\n",
    "    n = 10 \n",
    "print(myclass)"
   ]
  },
  {
   "cell_type": "code",
   "execution_count": null,
   "metadata": {},
   "outputs": [],
   "source": [
    "class classname:\n",
    "    na = 'carkson'\n",
    "print(classname)"
   ]
  },
  {
   "cell_type": "code",
   "execution_count": 1,
   "metadata": {},
   "outputs": [
    {
     "name": "stdout",
     "output_type": "stream",
     "text": [
      "john\n",
      "36 yrs\n",
      "Niit\n",
      "festac\n"
     ]
    }
   ],
   "source": [
    "# create a class named perrson, use the ___init__() function to assign values for name and age:\n",
    "\n",
    "class person:\n",
    "    def __init__(self, name, age, school, location):\n",
    "        self.name = name\n",
    "        self.age =age\n",
    "        self.school = school \n",
    "        self.location = location\n",
    "        \n",
    "p1 = person('john', 36, 'Niit', 'festac')\n",
    "\n",
    "print(p1.name)\n",
    "print(p1.age,'yrs')\n",
    "print(p1.school)\n",
    "print(p1.location)"
   ]
  },
  {
   "cell_type": "code",
   "execution_count": 1,
   "metadata": {},
   "outputs": [
    {
     "name": "stdout",
     "output_type": "stream",
     "text": [
      "Hello my name is john\n",
      "hello my age is36\n",
      "Hello my school isNIIT\n",
      "Hello my location isFestac\n"
     ]
    }
   ],
   "source": [
    "class person:\n",
    "    def __init__(self, name, age, school, location):\n",
    "        self.name = name\n",
    "        self.age =age\n",
    "        self.school = school \n",
    "        self.location = location\n",
    "        \n",
    "    def myfunc(self): # object method\n",
    "        print('Hello my name is ' + self.name)\n",
    "        print('hello my age is'  + self.age)\n",
    "        print('Hello my school is' + self.school)\n",
    "        print('Hello my location is' + self.location)\n",
    "        \n",
    "p1 = person('john', '36', 'NIIT', 'Festac')\n",
    "\n",
    "p1.myfunc()"
   ]
  },
  {
   "cell_type": "code",
   "execution_count": 11,
   "metadata": {},
   "outputs": [
    {
     "name": "stdout",
     "output_type": "stream",
     "text": [
      "prosper ihionu john\n"
     ]
    }
   ],
   "source": [
    "class person:\n",
    "    def __init__(self,fname,lname,surname):\n",
    "        self.firstname = fname\n",
    "        self.lastname = lname\n",
    "        self.surname = surname\n",
    "        \n",
    "        \n",
    "    def printname(self):\n",
    "        print(self.firstname, self.lastname, self.surname)\n",
    "        \n",
    "        \n",
    "class carkson(person):\n",
    "    def __init__(self, fname, lname, surname):\n",
    "        super().__init__(fname, lname, surname)\n",
    "\n",
    "    \n",
    "x = carkson(\"prosper\", \"ihionu\",  \"john\")\n",
    "x.printname()"
   ]
  },
  {
   "cell_type": "code",
   "execution_count": 5,
   "metadata": {},
   "outputs": [
    {
     "name": "stdout",
     "output_type": "stream",
     "text": [
      "david carkson\n"
     ]
    }
   ],
   "source": [
    "class student(person):\n",
    "    pass\n",
    "x = student(\"david\", \"carkson\")\n",
    "x.printname()"
   ]
  },
  {
   "cell_type": "code",
   "execution_count": 15,
   "metadata": {},
   "outputs": [
    {
     "name": "stdout",
     "output_type": "stream",
     "text": [
      "welcome shalom ezekiel to the class of 1995\n"
     ]
    }
   ],
   "source": [
    "class person:\n",
    "    def __init__(self,fname,lname):\n",
    "        self.fname = fname\n",
    "        self.lname = lname\n",
    "    def print_name(self):\n",
    "        print(self.fname,self.lname)\n",
    "        \n",
    "class student(person):\n",
    "    def __init__(self, fname, lname,year):\n",
    "        super().__init__(fname, lname)\n",
    "        self.graduationyear = year\n",
    "        \n",
    "    def welcome(self):\n",
    "        print(\"welcome\", self.fname, self.lname, \"to the class of\", self.graduationyear)\n",
    "x = student(\"shalom\",\"ezekiel\", 1995) \n",
    "x.welcome()\n",
    "        "
   ]
  },
  {
   "cell_type": "code",
   "execution_count": 1,
   "metadata": {},
   "outputs": [
    {
     "ename": "gaierror",
     "evalue": "[Errno 11001] getaddrinfo failed",
     "output_type": "error",
     "traceback": [
      "\u001b[1;31m---------------------------------------------------------------------------\u001b[0m",
      "\u001b[1;31mgaierror\u001b[0m                                  Traceback (most recent call last)",
      "Cell \u001b[1;32mIn[1], line 4\u001b[0m\n\u001b[0;32m      1\u001b[0m \u001b[39mimport\u001b[39;00m \u001b[39msocket\u001b[39;00m\n\u001b[0;32m      3\u001b[0m mysock \u001b[39m=\u001b[39m socket\u001b[39m.\u001b[39msocket(socket\u001b[39m.\u001b[39mAF_INET, socket\u001b[39m.\u001b[39mSOCK_STREAM)\n\u001b[1;32m----> 4\u001b[0m mysock\u001b[39m.\u001b[39;49mconnect((\u001b[39m'\u001b[39;49m\u001b[39mdata.pr4e.org\u001b[39;49m\u001b[39m'\u001b[39;49m, \u001b[39m80\u001b[39;49m))\n\u001b[0;32m      5\u001b[0m cmd \u001b[39m=\u001b[39m \u001b[39m'\u001b[39m\u001b[39mGET http://data.pr4e.org/romeo.txt HTTTP/1.0\u001b[39m\u001b[39m\\r\u001b[39;00m\u001b[39m\\n\u001b[39;00m\u001b[39m\\r\u001b[39;00m\u001b[39m\\n\u001b[39;00m\u001b[39m'\u001b[39m\u001b[39m.\u001b[39mencode()\n\u001b[0;32m      6\u001b[0m mysock\u001b[39m.\u001b[39msend(cmd)\n",
      "\u001b[1;31mgaierror\u001b[0m: [Errno 11001] getaddrinfo failed"
     ]
    }
   ],
   "source": [
    "import socket\n",
    "\n",
    "mysock = socket.socket(socket.AF_INET, socket.SOCK_STREAM)\n",
    "mysock.connect(('data.pr4e.org', 80))\n",
    "cmd = 'GET http://data.pr4e.org/romeo.txt HTTTP/1.0\\r\\n\\r\\n'.encode()\n",
    "mysock.send(cmd)\n",
    "\n",
    "while True:\n",
    "    data =mysock.recv(512)\n",
    "    if len(data) < 1:\n",
    "        break\n",
    "    print(data.decode(), end='')\n",
    "    \n",
    "mysock.close()"
   ]
  },
  {
   "cell_type": "code",
   "execution_count": 3,
   "metadata": {},
   "outputs": [
    {
     "name": "stdout",
     "output_type": "stream",
     "text": [
      "name: Chuck \n",
      "Attribute: yes\n"
     ]
    }
   ],
   "source": [
    "import  xml.etree.ElementTree as ET\n",
    "\n",
    "data = '''\n",
    "<person>\n",
    "<name>Chuck </name>\n",
    "<phone> type ='intl'\n",
    "+234708893214\n",
    "</phone>\n",
    "<email hide = 'yes'/>\n",
    "\n",
    "</person>'''\n",
    "\n",
    "\n",
    "tree = ET.fromstring(data)\n",
    "print('name:', tree.find('name').text)\n",
    "print('Attribute:',tree.find('email').get('hide'))"
   ]
  },
  {
   "cell_type": "code",
   "execution_count": 13,
   "metadata": {},
   "outputs": [
    {
     "name": "stdout",
     "output_type": "stream",
     "text": [
      "Name: chuck\n",
      "id  001 \n",
      "Attribute 2\n",
      "Name:  Brent \n",
      "id  009 \n",
      "Attribute None\n"
     ]
    }
   ],
   "source": [
    "input = '''\n",
    "<stuff>\n",
    "<users>\n",
    "<user x = '2'>\n",
    "<id> 001 </id>\n",
    "<name>chuck</name>\n",
    "</user>\n",
    "<user> x = '7'>\n",
    "<id> 009 </id>\n",
    "<name> Brent </name>\n",
    "</user>\n",
    "</users>\n",
    "</stuff> '''\n",
    "        \n",
    "stuff = ET.fromstring(input)\n",
    "ist = stuff.findall(\"users/user\")\n",
    "\n",
    "for item in ist:\n",
    "    print(\"Name:\", item.find('name').text)\n",
    "    print('id', item.find('id').text)\n",
    "    print('Attribute',item.get('x'))        "
   ]
  },
  {
   "cell_type": "code",
   "execution_count": 14,
   "metadata": {},
   "outputs": [
    {
     "name": "stdout",
     "output_type": "stream",
     "text": [
      "wolf\n"
     ]
    }
   ],
   "source": [
    "class Animal:\n",
    "    def __init__(self ,name):\n",
    "        self.name = name\n",
    "        \n",
    "    def speak(self):\n",
    "        pass\n",
    "    \n",
    "class Dog(Animal):\n",
    "    def speak(self):\n",
    "        return 'wolf'\n",
    "    \n",
    "dog = Dog('Bingo')\n",
    "print(dog.speak())"
   ]
  },
  {
   "cell_type": "code",
   "execution_count": 11,
   "metadata": {},
   "outputs": [
    {
     "name": "stdout",
     "output_type": "stream",
     "text": [
      "<re.Match object; span=(0, 4), match='John'>\n"
     ]
    }
   ],
   "source": [
    "import re\n",
    "\n",
    "\n",
    "\n",
    "pattern = r\"John\"\n",
    "match = re.match(pattern,\"John My name is john and hi i'm john\")\n",
    "print(match)\n"
   ]
  },
  {
   "cell_type": "code",
   "execution_count": null,
   "metadata": {},
   "outputs": [],
   "source": [
    "# a class to create a single hotel av  c"
   ]
  },
  {
   "cell_type": "code",
   "execution_count": 6,
   "metadata": {},
   "outputs": [
    {
     "name": "stdout",
     "output_type": "stream",
     "text": [
      "match found\n"
     ]
    }
   ],
   "source": [
    "import re\n",
    "\n",
    "pattern = r\"johnwick\"\n",
    "\n",
    "if re.match(pattern , \"johnwick\"):\n",
    "    print(\"match found\")\n",
    "    \n",
    "else:\n",
    "    print(\"match not found\")"
   ]
  },
  {
   "cell_type": "code",
   "execution_count": 15,
   "metadata": {},
   "outputs": [
    {
     "name": "stdout",
     "output_type": "stream",
     "text": [
      "match found\n"
     ]
    }
   ],
   "source": [
    "import re\n",
    "\n",
    "pattern = r\"abc\"\n",
    "\n",
    "if re.findall(pattern , \"jjnjheqfkabcjqsbjbbabc\"):\n",
    "    print(\"match found\")\n",
    "    \n",
    "else:\n",
    "    print(\"match not found\")"
   ]
  },
  {
   "cell_type": "code",
   "execution_count": 18,
   "metadata": {},
   "outputs": [
    {
     "name": "stdout",
     "output_type": "stream",
     "text": [
      "['abc', 'abc']\n"
     ]
    }
   ],
   "source": [
    "pattern = r\"abc\"\n",
    "match=re.findall(pattern , \"jjnjheqfkabcjqsbjbbabc\")\n",
    "print(match)\n",
    "    "
   ]
  },
  {
   "cell_type": "code",
   "execution_count": 26,
   "metadata": {},
   "outputs": [
    {
     "name": "stdout",
     "output_type": "stream",
     "text": [
      "['234', '234']\n"
     ]
    }
   ],
   "source": [
    "pattern =  r'234'\n",
    "match = re.findall(pattern, '+2340803344+987355542 +2340997' )\n",
    "print(match)"
   ]
  },
  {
   "cell_type": "code",
   "execution_count": 21,
   "metadata": {},
   "outputs": [
    {
     "name": "stdout",
     "output_type": "stream",
     "text": [
      "I'm make and i like make okay\n"
     ]
    }
   ],
   "source": [
    "import re\n",
    "\n",
    "pattern =r'johnwick'\n",
    "txt = \"I'm johnwick and i like johnwick okay\"\n",
    "replace = re.sub(pattern,'make', txt)\n",
    "print(replace) \n"
   ]
  },
  {
   "cell_type": "code",
   "execution_count": 17,
   "metadata": {},
   "outputs": [
    {
     "name": "stdout",
     "output_type": "stream",
     "text": [
      "['1', '2', '3', '4', '5', '6', '7', '8']\n"
     ]
    }
   ],
   "source": [
    "import re\n",
    "\n",
    "pattern =r'\\d'\n",
    "txt = \"ffohfiehfoh12345678rhgoelkjwff\"\n",
    "replace = re.findall(pattern, txt)\n",
    "print(replace) \n"
   ]
  },
  {
   "cell_type": "code",
   "execution_count": null,
   "metadata": {},
   "outputs": [],
   "source": [
    "import re \n",
    "pattern = r'joe'\n",
    "\n",
    "if re.match((pattern),'joe is a nice guy buh joe is gay plus joe which is not coool'):\n",
    "    print('match found')\n",
    "else:\n",
    "    print('match not found')"
   ]
  },
  {
   "cell_type": "code",
   "execution_count": 20,
   "metadata": {},
   "outputs": [
    {
     "name": "stdout",
     "output_type": "stream",
     "text": [
      "None\n"
     ]
    }
   ],
   "source": [
    "# usersname = pattern - ur\n",
    "\n",
    "import re \n",
    "\n",
    "username  = input('enter your name:')\n",
    "pattern = r'[a-r][0-3]'\n",
    "get =  re.search(pattern,username)\n",
    "print(get)"
   ]
  },
  {
   "cell_type": "code",
   "execution_count": null,
   "metadata": {},
   "outputs": [],
   "source": [
    "import re \n",
    "\n",
    "username  = input('enter your name:')\n",
    "pattern = r'[a-r][0-3]'\n",
    "get =  re.(pattern,username)\n",
    "print(get)"
   ]
  },
  {
   "cell_type": "code",
   "execution_count": 25,
   "metadata": {},
   "outputs": [
    {
     "name": "stdout",
     "output_type": "stream",
     "text": [
      "I'm johnwick and is me and is youlike johnwick okay\n"
     ]
    }
   ],
   "source": [
    "import re\n",
    "\n",
    "pattern =r'the'\n",
    "txt = \"I'm johnwick and the me and the youlike johnwick okay\"\n",
    "replace = re.sub(pattern,'is', txt)\n",
    "print(replace) \n"
   ]
  },
  {
   "cell_type": "code",
   "execution_count": 4,
   "metadata": {},
   "outputs": [
    {
     "name": "stdout",
     "output_type": "stream",
     "text": [
      "This is a invalid username\n"
     ]
    }
   ],
   "source": [
    "import re\n",
    "name = input ('Enter a  number')\n",
    "pattern = r'^[a-z][A-Z]$'\n",
    "if re.match(pattern,name):\n",
    "    print('This is a valid username')\n",
    "else:\n",
    "    print('This is a invalid username')\n",
    "    "
   ]
  },
  {
   "cell_type": "code",
   "execution_count": 2,
   "metadata": {},
   "outputs": [
    {
     "name": "stdout",
     "output_type": "stream",
     "text": [
      "This is a invalid username\n"
     ]
    }
   ],
   "source": [
    "import re\n",
    "name3 = input('enter a name') # type: ignore\n",
    "\n",
    "pattern = r'\\b[a-zA-Z0-9_#&]+@gmail\\.com\\b'\n",
    "if re.match(pattern, name3):\n",
    "    print('This is a valid username')\n",
    "else:\n",
    "    print('This is a invalid username')\n",
    "        "
   ]
  },
  {
   "cell_type": "code",
   "execution_count": 1,
   "metadata": {},
   "outputs": [
    {
     "name": "stdout",
     "output_type": "stream",
     "text": [
      "write a REGEX pattern THAT  matches UPPERCASE words in a string\n"
     ]
    }
   ],
   "source": [
    "import re\n",
    "pattern = r'\\b[A-Z]+\\b'\n",
    "name = 'write a REGEX pattern THAT  matches UPPERCASE words in a string'\n",
    "if re.findall(pattern,name):\n",
    "    print(name)\n",
    "else:\n",
    "    print('This is a invalid username')"
   ]
  },
  {
   "cell_type": "code",
   "execution_count": null,
   "metadata": {},
   "outputs": [],
   "source": [
    "from urllib.request import urlopen\n",
    "from bs4 import BeautifulSoup\n",
    "\n",
    "html =  urlopen('https://www.google.com')\n",
    "all = BeautifulSoup(html.read(),'html.parser')\n",
    "print(all.p)\n",
    "print(html.read())\n",
    "\n"
   ]
  },
  {
   "cell_type": "code",
   "execution_count": null,
   "metadata": {},
   "outputs": [],
   "source": [
    "import requests\n",
    "# Getting requests for the internet\n",
    "response = requests.get('https://www.google.com')\n",
    "\n",
    "print(response.url)\n",
    "print(response.status_code) \n",
    "  \n",
    "# print(response)\n",
    "# print(response.contentv)\n"
   ]
  },
  {
   "cell_type": "code",
   "execution_count": null,
   "metadata": {},
   "outputs": [],
   "source": [
    "import requests \n",
    "from bs4 import  BeautifulSoup\n",
    "respons = requests.get(\"https://www.uefa.com/uefachampionsleague\")\n",
    "getters = BeautifulSoup(response,\"html.parser\")\n",
    "print(get)"
   ]
  },
  {
   "cell_type": "code",
   "execution_count": null,
   "metadata": {},
   "outputs": [],
   "source": [
    "import json \n",
    "food = \"{'food1':'eba','food2':amala','food3:'rice'}\"\n",
    "adding = json.loads(food)\n",
    "adding['food4'] = 'beans'\n",
    "print(adding)"
   ]
  }
 ],
 "metadata": {
  "kernelspec": {
   "display_name": "Python 3",
   "language": "python",
   "name": "python3"
  },
  "language_info": {
   "codemirror_mode": {
    "name": "ipython",
    "version": 3
   },
   "file_extension": ".py",
   "mimetype": "text/x-python",
   "name": "python",
   "nbconvert_exporter": "python",
   "pygments_lexer": "ipython3",
   "version": "3.10.6"
  },
  "orig_nbformat": 4,
  "vscode": {
   "interpreter": {
    "hash": "cc721ad79227d88f50383d3ba8646f442939bda11337f2cc68d819a169affcdd"
   }
  }
 },
 "nbformat": 4,
 "nbformat_minor": 2
}
